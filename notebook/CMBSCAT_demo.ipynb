{
 "cells": [
  {
   "cell_type": "markdown",
   "id": "c344c965-fedd-41e4-8aae-eab442645be1",
   "metadata": {},
   "source": [
    "# Demo: CMB Systematics Maps Synthesis with the Scattering Covariance \n",
    "\n",
    "## Introduction to the `cmbscat` package\n",
    "\n",
    "`cmbscat` is a pip installable package that can synthesize new map samples (called **emulations**) which are both visually and statistically similar to the ones found in an (eventually) small dataset of simulations. \n",
    "\n",
    "You can install it simply doing:\n",
    "```\n",
    "pip install cmbscat\n",
    "```\n",
    "You can then set generate a new dataset of CMB systematics maps by doing:\n",
    "\n",
    "```python\n",
    "from cmbscat import cmbscat_pipe\n",
    "\n",
    "# Set emulator parameters\n",
    "params = {\n",
    "    'NNN'          : 10,             # Number of input reference maps\n",
    "    'gauss_real'   : True,             # Generate new input data as Gaussian realizations from pixel covariance of original data\n",
    "    'NGEN'         : 10,               # Batch size for gradient descent\n",
    "    'n_samples'    : 10,               # Samples in the input dataset\n",
    "    'nside'        : 16,               # N_side of input maps\n",
    "    'NORIENT'      : 4,                # Orientations in the SC\n",
    "    'nstep'        : 50,              # Steps in gradient descent\n",
    "    'KERNELSZ'     : 3,                # Wavelet kernel size\n",
    "    'outname'      : 'example',        # Output name\n",
    "    'outpath'      : './data/',        # Output path\n",
    "    'data'         : 'variable_gain_sims.npy'  # Input data path\n",
    "}\n",
    "\n",
    "# Initialize pipeline...\n",
    "pipeline = cmbscat_pipe(params)\n",
    "\n",
    "#...and run! This generates NGEN new maps for each of the n_samples input maps\n",
    "pipeline.run()\n",
    "```\n",
    "\n",
    "## Scope of this notebook\n",
    "This notebook demonstrates what happens under the hood of the `cmbscat_pipe` class (without using the `run()` method). We explain in detail the various steps in the `cmbscat_pipe` class step-by-step.\n",
    "\n",
    "We'll initialize parameters, load some example data, run each method, and create plots to visualize the intermediate and final results of the scattering synthesis.\n",
    "\n",
    "Let's first of all install the `cmbscat` package with pip. This install all the required dependencies, including the `HealpixML` package on which this demo is heavily based.\n",
    "\n"
   ]
  },
  {
   "cell_type": "code",
   "execution_count": 1,
   "id": "ea0921ab-bf21-424a-81f9-8529f4f82a04",
   "metadata": {},
   "outputs": [
    {
     "name": "stdout",
     "output_type": "stream",
     "text": [
      "Requirement already satisfied: cmbscat in /Users/pcampeti/anaconda3/envs/myenv/lib/python3.11/site-packages (0.17.0)\n",
      "Requirement already satisfied: numpy in /Users/pcampeti/anaconda3/envs/myenv/lib/python3.11/site-packages (from cmbscat) (2.0.2)\n",
      "Requirement already satisfied: matplotlib in /Users/pcampeti/anaconda3/envs/myenv/lib/python3.11/site-packages (from cmbscat) (3.10.1)\n",
      "Requirement already satisfied: healpy in /Users/pcampeti/anaconda3/envs/myenv/lib/python3.11/site-packages (from cmbscat) (1.18.0)\n",
      "Requirement already satisfied: tensorflow in /Users/pcampeti/anaconda3/envs/myenv/lib/python3.11/site-packages (from cmbscat) (2.18.0)\n",
      "Requirement already satisfied: foscat in /Users/pcampeti/anaconda3/envs/myenv/lib/python3.11/site-packages (from cmbscat) (3.7.1)\n",
      "Requirement already satisfied: tqdm in /Users/pcampeti/anaconda3/envs/myenv/lib/python3.11/site-packages (from cmbscat) (4.67.1)\n",
      "Requirement already satisfied: imageio in /Users/pcampeti/anaconda3/envs/myenv/lib/python3.11/site-packages (from foscat->cmbscat) (2.37.0)\n",
      "Requirement already satisfied: imagecodecs in /Users/pcampeti/anaconda3/envs/myenv/lib/python3.11/site-packages (from foscat->cmbscat) (2024.12.30)\n",
      "Requirement already satisfied: spherical in /Users/pcampeti/anaconda3/envs/myenv/lib/python3.11/site-packages (from foscat->cmbscat) (1.0.15)\n",
      "Requirement already satisfied: astropy in /Users/pcampeti/anaconda3/envs/myenv/lib/python3.11/site-packages (from healpy->cmbscat) (7.0.1)\n",
      "Requirement already satisfied: contourpy>=1.0.1 in /Users/pcampeti/anaconda3/envs/myenv/lib/python3.11/site-packages (from matplotlib->cmbscat) (1.3.1)\n",
      "Requirement already satisfied: cycler>=0.10 in /Users/pcampeti/anaconda3/envs/myenv/lib/python3.11/site-packages (from matplotlib->cmbscat) (0.12.1)\n",
      "Requirement already satisfied: fonttools>=4.22.0 in /Users/pcampeti/anaconda3/envs/myenv/lib/python3.11/site-packages (from matplotlib->cmbscat) (4.56.0)\n",
      "Requirement already satisfied: kiwisolver>=1.3.1 in /Users/pcampeti/anaconda3/envs/myenv/lib/python3.11/site-packages (from matplotlib->cmbscat) (1.4.8)\n",
      "Requirement already satisfied: packaging>=20.0 in /Users/pcampeti/anaconda3/envs/myenv/lib/python3.11/site-packages (from matplotlib->cmbscat) (24.2)\n",
      "Requirement already satisfied: pillow>=8 in /Users/pcampeti/anaconda3/envs/myenv/lib/python3.11/site-packages (from matplotlib->cmbscat) (11.1.0)\n",
      "Requirement already satisfied: pyparsing>=2.3.1 in /Users/pcampeti/anaconda3/envs/myenv/lib/python3.11/site-packages (from matplotlib->cmbscat) (3.2.1)\n",
      "Requirement already satisfied: python-dateutil>=2.7 in /Users/pcampeti/anaconda3/envs/myenv/lib/python3.11/site-packages (from matplotlib->cmbscat) (2.9.0.post0)\n",
      "Requirement already satisfied: absl-py>=1.0.0 in /Users/pcampeti/anaconda3/envs/myenv/lib/python3.11/site-packages (from tensorflow->cmbscat) (2.1.0)\n",
      "Requirement already satisfied: astunparse>=1.6.0 in /Users/pcampeti/anaconda3/envs/myenv/lib/python3.11/site-packages (from tensorflow->cmbscat) (1.6.3)\n",
      "Requirement already satisfied: flatbuffers>=24.3.25 in /Users/pcampeti/anaconda3/envs/myenv/lib/python3.11/site-packages (from tensorflow->cmbscat) (25.2.10)\n",
      "Requirement already satisfied: gast!=0.5.0,!=0.5.1,!=0.5.2,>=0.2.1 in /Users/pcampeti/anaconda3/envs/myenv/lib/python3.11/site-packages (from tensorflow->cmbscat) (0.6.0)\n",
      "Requirement already satisfied: google-pasta>=0.1.1 in /Users/pcampeti/anaconda3/envs/myenv/lib/python3.11/site-packages (from tensorflow->cmbscat) (0.2.0)\n",
      "Requirement already satisfied: libclang>=13.0.0 in /Users/pcampeti/anaconda3/envs/myenv/lib/python3.11/site-packages (from tensorflow->cmbscat) (18.1.1)\n",
      "Requirement already satisfied: opt-einsum>=2.3.2 in /Users/pcampeti/anaconda3/envs/myenv/lib/python3.11/site-packages (from tensorflow->cmbscat) (3.4.0)\n",
      "Requirement already satisfied: protobuf!=4.21.0,!=4.21.1,!=4.21.2,!=4.21.3,!=4.21.4,!=4.21.5,<6.0.0dev,>=3.20.3 in /Users/pcampeti/anaconda3/envs/myenv/lib/python3.11/site-packages (from tensorflow->cmbscat) (5.29.3)\n",
      "Requirement already satisfied: requests<3,>=2.21.0 in /Users/pcampeti/anaconda3/envs/myenv/lib/python3.11/site-packages (from tensorflow->cmbscat) (2.32.3)\n",
      "Requirement already satisfied: setuptools in /Users/pcampeti/anaconda3/envs/myenv/lib/python3.11/site-packages (from tensorflow->cmbscat) (75.8.2)\n",
      "Requirement already satisfied: six>=1.12.0 in /Users/pcampeti/anaconda3/envs/myenv/lib/python3.11/site-packages (from tensorflow->cmbscat) (1.17.0)\n",
      "Requirement already satisfied: termcolor>=1.1.0 in /Users/pcampeti/anaconda3/envs/myenv/lib/python3.11/site-packages (from tensorflow->cmbscat) (2.5.0)\n",
      "Requirement already satisfied: typing-extensions>=3.6.6 in /Users/pcampeti/anaconda3/envs/myenv/lib/python3.11/site-packages (from tensorflow->cmbscat) (4.12.2)\n",
      "Requirement already satisfied: wrapt>=1.11.0 in /Users/pcampeti/anaconda3/envs/myenv/lib/python3.11/site-packages (from tensorflow->cmbscat) (1.17.2)\n",
      "Requirement already satisfied: grpcio<2.0,>=1.24.3 in /Users/pcampeti/anaconda3/envs/myenv/lib/python3.11/site-packages (from tensorflow->cmbscat) (1.70.0)\n",
      "Requirement already satisfied: tensorboard<2.19,>=2.18 in /Users/pcampeti/anaconda3/envs/myenv/lib/python3.11/site-packages (from tensorflow->cmbscat) (2.18.0)\n",
      "Requirement already satisfied: keras>=3.5.0 in /Users/pcampeti/anaconda3/envs/myenv/lib/python3.11/site-packages (from tensorflow->cmbscat) (3.9.0)\n",
      "Requirement already satisfied: h5py>=3.11.0 in /Users/pcampeti/anaconda3/envs/myenv/lib/python3.11/site-packages (from tensorflow->cmbscat) (3.13.0)\n",
      "Requirement already satisfied: ml-dtypes<0.5.0,>=0.4.0 in /Users/pcampeti/anaconda3/envs/myenv/lib/python3.11/site-packages (from tensorflow->cmbscat) (0.4.1)\n",
      "Requirement already satisfied: tensorflow-io-gcs-filesystem>=0.23.1 in /Users/pcampeti/anaconda3/envs/myenv/lib/python3.11/site-packages (from tensorflow->cmbscat) (0.37.1)\n",
      "Requirement already satisfied: wheel<1.0,>=0.23.0 in /Users/pcampeti/anaconda3/envs/myenv/lib/python3.11/site-packages (from astunparse>=1.6.0->tensorflow->cmbscat) (0.45.1)\n",
      "Requirement already satisfied: rich in /Users/pcampeti/anaconda3/envs/myenv/lib/python3.11/site-packages (from keras>=3.5.0->tensorflow->cmbscat) (13.9.4)\n",
      "Requirement already satisfied: namex in /Users/pcampeti/anaconda3/envs/myenv/lib/python3.11/site-packages (from keras>=3.5.0->tensorflow->cmbscat) (0.0.8)\n",
      "Requirement already satisfied: optree in /Users/pcampeti/anaconda3/envs/myenv/lib/python3.11/site-packages (from keras>=3.5.0->tensorflow->cmbscat) (0.14.1)\n",
      "Requirement already satisfied: charset_normalizer<4,>=2 in /Users/pcampeti/anaconda3/envs/myenv/lib/python3.11/site-packages (from requests<3,>=2.21.0->tensorflow->cmbscat) (3.4.1)\n",
      "Requirement already satisfied: idna<4,>=2.5 in /Users/pcampeti/anaconda3/envs/myenv/lib/python3.11/site-packages (from requests<3,>=2.21.0->tensorflow->cmbscat) (3.10)\n",
      "Requirement already satisfied: urllib3<3,>=1.21.1 in /Users/pcampeti/anaconda3/envs/myenv/lib/python3.11/site-packages (from requests<3,>=2.21.0->tensorflow->cmbscat) (2.3.0)\n",
      "Requirement already satisfied: certifi>=2017.4.17 in /Users/pcampeti/anaconda3/envs/myenv/lib/python3.11/site-packages (from requests<3,>=2.21.0->tensorflow->cmbscat) (2025.1.31)\n",
      "Requirement already satisfied: markdown>=2.6.8 in /Users/pcampeti/anaconda3/envs/myenv/lib/python3.11/site-packages (from tensorboard<2.19,>=2.18->tensorflow->cmbscat) (3.7)\n",
      "Requirement already satisfied: tensorboard-data-server<0.8.0,>=0.7.0 in /Users/pcampeti/anaconda3/envs/myenv/lib/python3.11/site-packages (from tensorboard<2.19,>=2.18->tensorflow->cmbscat) (0.7.2)\n",
      "Requirement already satisfied: werkzeug>=1.0.1 in /Users/pcampeti/anaconda3/envs/myenv/lib/python3.11/site-packages (from tensorboard<2.19,>=2.18->tensorflow->cmbscat) (3.1.3)\n",
      "Requirement already satisfied: pyerfa>=2.0.1.1 in /Users/pcampeti/anaconda3/envs/myenv/lib/python3.11/site-packages (from astropy->healpy->cmbscat) (2.0.1.5)\n",
      "Requirement already satisfied: astropy-iers-data>=0.2025.1.31.12.41.4 in /Users/pcampeti/anaconda3/envs/myenv/lib/python3.11/site-packages (from astropy->healpy->cmbscat) (0.2025.3.3.0.34.45)\n",
      "Requirement already satisfied: PyYAML>=6.0.0 in /Users/pcampeti/anaconda3/envs/myenv/lib/python3.11/site-packages (from astropy->healpy->cmbscat) (6.0.2)\n",
      "Requirement already satisfied: numba>=0.55 in /Users/pcampeti/anaconda3/envs/myenv/lib/python3.11/site-packages (from spherical->foscat->cmbscat) (0.61.0)\n",
      "Requirement already satisfied: quaternionic>=1.0 in /Users/pcampeti/anaconda3/envs/myenv/lib/python3.11/site-packages (from spherical->foscat->cmbscat) (1.0.15)\n",
      "Requirement already satisfied: scipy>=1.5 in /Users/pcampeti/anaconda3/envs/myenv/lib/python3.11/site-packages (from spherical->foscat->cmbscat) (1.15.2)\n",
      "Requirement already satisfied: spinsfast>=104.2020.8 in /Users/pcampeti/anaconda3/envs/myenv/lib/python3.11/site-packages (from spherical->foscat->cmbscat) (2022.4.10)\n",
      "Requirement already satisfied: llvmlite<0.45,>=0.44.0dev0 in /Users/pcampeti/anaconda3/envs/myenv/lib/python3.11/site-packages (from numba>=0.55->spherical->foscat->cmbscat) (0.44.0)\n",
      "Requirement already satisfied: MarkupSafe>=2.1.1 in /Users/pcampeti/anaconda3/envs/myenv/lib/python3.11/site-packages (from werkzeug>=1.0.1->tensorboard<2.19,>=2.18->tensorflow->cmbscat) (3.0.2)\n",
      "Requirement already satisfied: markdown-it-py>=2.2.0 in /Users/pcampeti/anaconda3/envs/myenv/lib/python3.11/site-packages (from rich->keras>=3.5.0->tensorflow->cmbscat) (3.0.0)\n",
      "Requirement already satisfied: pygments<3.0.0,>=2.13.0 in /Users/pcampeti/anaconda3/envs/myenv/lib/python3.11/site-packages (from rich->keras>=3.5.0->tensorflow->cmbscat) (2.19.1)\n",
      "Requirement already satisfied: mdurl~=0.1 in /Users/pcampeti/anaconda3/envs/myenv/lib/python3.11/site-packages (from markdown-it-py>=2.2.0->rich->keras>=3.5.0->tensorflow->cmbscat) (0.1.2)\n"
     ]
    }
   ],
   "source": [
    "!pip install cmbscat # comment this if you already installed cmbscat"
   ]
  },
  {
   "cell_type": "code",
   "execution_count": 2,
   "id": "bc88e0f0-0ddd-4d5c-9519-db13248ae60d",
   "metadata": {},
   "outputs": [],
   "source": [
    "# ------------------------------------------------------------\n",
    "# 0) Imports\n",
    "# ------------------------------------------------------------\n",
    "import numpy as np\n",
    "import healpy as hp\n",
    "import os\n",
    "import matplotlib.pyplot as plt\n",
    "import tensorflow as tf\n",
    "import foscat.alm as foscat_alm\n",
    "import foscat.Synthesis as synthe\n",
    "import foscat.scat_cov as sc\n",
    "from tqdm import tqdm, trange\n",
    "\n",
    "from cmbscat import cmbscat_pipe\n",
    "\n",
    "# If your environment might use inline plotting:\n",
    "%matplotlib inline\n"
   ]
  },
  {
   "cell_type": "markdown",
   "id": "139be688-836d-41a3-b6e5-e53e5e555129",
   "metadata": {},
   "source": [
    "## 1) Define Parameters\n",
    "\n",
    "Below is an example dictionary of parameters. You can tweak them as you want.\n",
    "\n",
    "We assume that the input data in `data` are N>NNN (T,Q,U) Healpix maps in RING ordering at `nside_in` resolution, saved in a .npy file. These tensor containing the input data will therefore have shape (N, 3, 12*nside_in**2). "
   ]
  },
  {
   "cell_type": "code",
   "execution_count": 3,
   "id": "857cdacc-c464-4f5a-b42c-46467aa1d5da",
   "metadata": {},
   "outputs": [],
   "source": [
    "params = {\n",
    "    'NNN'          : 10,               # number of input reference maps\n",
    "    'gauss_real'   : True,             # whether to generate PCA-based Gaussian maps\n",
    "    'gauss_seed'   : 42,               # random seed for the PCA-based maps\n",
    "    'NGEN'         : 10,               # number of maps in a batch for the gradient descent\n",
    "    'n_samples'    : 10,               # how many input samples in the input dataset (used to generate them if gauss_real=True)\n",
    "    'nmask'        : 2,                # number of masks\n",
    "    'mask'         : None,             # mask file (if None no mask is used during SC calculation)\n",
    "    'nside'        : 8,               # nside of the maps (original maps gets downgraded if their nside_in > this nside)\n",
    "    'NORIENT'      : 4,                # number of orientations in the SC\n",
    "    'cov'          : True,             # if True uses scat_cov\n",
    "    'no_orient'    : False,            # if True, orientation matrices won't be used\n",
    "    'nstep'        : 20,              # number of steps in gradient descent\n",
    "    'KERNELSZ'     : 3,                # wavelet kernel size\n",
    "    'ave_target'   : False,            # if True => average-target approach\n",
    "    'outname'      : 'example',        # prefix for output\n",
    "    'outpath'      : './data/',        # output path (creates the folder if it doesn't exist)\n",
    "    'data'         : 'variable_gain_sims.npy'  # path to your input .npy file containing the input dataset\n",
    "}\n"
   ]
  },
  {
   "cell_type": "markdown",
   "id": "e882a7a6-dba2-412d-89cd-86d63b98699b",
   "metadata": {},
   "source": [
    " Some useful parameters for plotting are defined below:"
   ]
  },
  {
   "cell_type": "code",
   "execution_count": 4,
   "id": "8c682f4b-6490-4584-8f04-d7cb8e742d7f",
   "metadata": {},
   "outputs": [],
   "source": [
    "# Global color limits (adjust if needed)\n",
    "min_val = -1e-7\n",
    "max_val =  1e-7"
   ]
  },
  {
   "cell_type": "markdown",
   "id": "e7bd7254-7ebd-4cb8-bea3-5037ab30a064",
   "metadata": {},
   "source": [
    "## 2) Initialize the Pipeline\n",
    "\n",
    "We create an instance of `cmbscat_pipe` with the above parameters.\n"
   ]
  },
  {
   "cell_type": "code",
   "execution_count": 5,
   "id": "d7fc0f8a-324c-418f-9a21-12d7e7e136a4",
   "metadata": {},
   "outputs": [
    {
     "name": "stdout",
     "output_type": "stream",
     "text": [
      "[INIT] CMBSCAT with nside=8, scat cov=True, no_orient=False\n"
     ]
    }
   ],
   "source": [
    "pipeline = cmbscat_pipe(params)"
   ]
  },
  {
   "cell_type": "markdown",
   "id": "23350332-ce96-4129-b3ba-f80f0072bf20",
   "metadata": {},
   "source": [
    "## 3) Preprocess Data\n",
    "\n",
    "We call `preprocess_data()` to:\n",
    "1. Load the data (assumed shape \\[N, 3 (T,Q,U), 12*nside_in^2\\]) from `params[\"data\"]`.\n",
    "2. Extract only the first NNN Q,U maps => shape \\[NNN, 2, 12*nside_in^2\\]. \n",
    "3. Downgrade to `nside` (if needed) and reorder to NEST scheme.\n",
    "\n",
    "The whole pipeline can be easily extended to account also for (T,Q,U) and not just (Q,U). \n",
    "Reordering is necessary as HealpixML assumes the input is in NEST ordering.\n",
    "\n",
    "Let's then visualize the first preprocessed map in Q and U channels.\n"
   ]
  },
  {
   "cell_type": "code",
   "execution_count": 7,
   "id": "296d588d-cbbc-4cab-8574-3dad8220fc30",
   "metadata": {},
   "outputs": [
    {
     "name": "stdout",
     "output_type": "stream",
     "text": [
      "[PREPROCESS] Loading data from: variable_gain_sims.npy\n"
     ]
    },
    {
     "name": "stderr",
     "output_type": "stream",
     "text": [
      "[PREPROCESS] Downgrading and reordering data to NEST:   0%|                                                                    | 0/10 [00:00<?, ?it/s]\n"
     ]
    },
    {
     "ename": "IndexError",
     "evalue": "index 1 is out of bounds for axis 1 with size 1",
     "output_type": "error",
     "traceback": [
      "\u001b[31m---------------------------------------------------------------------------\u001b[39m",
      "\u001b[31mIndexError\u001b[39m                                Traceback (most recent call last)",
      "\u001b[36mCell\u001b[39m\u001b[36m \u001b[39m\u001b[32mIn[7]\u001b[39m\u001b[32m, line 2\u001b[39m\n\u001b[32m      1\u001b[39m \u001b[38;5;66;03m# Run step 1: Preprocessing\u001b[39;00m\n\u001b[32m----> \u001b[39m\u001b[32m2\u001b[39m \u001b[43mpipeline\u001b[49m\u001b[43m.\u001b[49m\u001b[43mpreprocess_data\u001b[49m\u001b[43m(\u001b[49m\u001b[43m)\u001b[49m\n\u001b[32m      4\u001b[39m \u001b[38;5;66;03m# Access the internal .im array after preprocessing\u001b[39;00m\n\u001b[32m      5\u001b[39m preprocessed_im = pipeline.im  \u001b[38;5;66;03m# shape: (NNN, 2, 12*nside^2)\u001b[39;00m\n",
      "\u001b[36mFile \u001b[39m\u001b[32m~/anaconda3/envs/myenv/lib/python3.11/site-packages/cmbscat/cmbscat_class.py:141\u001b[39m, in \u001b[36mcmbscat_pipe.preprocess_data\u001b[39m\u001b[34m(self)\u001b[39m\n\u001b[32m    139\u001b[39m tmp = np.zeros([\u001b[32m2\u001b[39m, \u001b[32m12\u001b[39m*\u001b[38;5;28mself\u001b[39m.nside*\u001b[38;5;28mself\u001b[39m.nside])\n\u001b[32m    140\u001b[39m \u001b[38;5;28;01mfor\u001b[39;00m l \u001b[38;5;129;01min\u001b[39;00m \u001b[38;5;28mrange\u001b[39m(\u001b[32m2\u001b[39m):\n\u001b[32m--> \u001b[39m\u001b[32m141\u001b[39m     tmp[l] = hp.ud_grade(\u001b[43mim\u001b[49m\u001b[43m[\u001b[49m\u001b[43mk\u001b[49m\u001b[43m,\u001b[49m\u001b[43m \u001b[49m\u001b[43ml\u001b[49m\u001b[43m]\u001b[49m, \u001b[38;5;28mself\u001b[39m.nside)\n\u001b[32m    142\u001b[39m \u001b[38;5;28;01mfor\u001b[39;00m l \u001b[38;5;129;01min\u001b[39;00m \u001b[38;5;28mrange\u001b[39m(\u001b[32m2\u001b[39m):\n\u001b[32m    143\u001b[39m     im2[k, l] = tmp[l, idx_nest]\n",
      "\u001b[31mIndexError\u001b[39m: index 1 is out of bounds for axis 1 with size 1"
     ]
    }
   ],
   "source": [
    "# Run step 1: Preprocessing\n",
    "pipeline.preprocess_data()\n",
    "\n",
    "# Access the internal .im array after preprocessing\n",
    "preprocessed_im = pipeline.im  # shape: (NNN, 2, 12*nside^2)\n",
    "\n",
    "# Let's plot the first map's Q channel with healpy\n",
    "idx_map = 0\n",
    "\n",
    "# Create a figure with a specified size\n",
    "fig = plt.figure(figsize=(15, 7))\n",
    "\n",
    "# Plot the Q channel in the first subplot (1 row, 2 columns, first plot)\n",
    "hp.mollview(preprocessed_im[idx_map, 0], nest=True, min=min_val, max=max_val,\n",
    "            title='Preprocessed Q channel', sub=(1, 2, 1))\n",
    "\n",
    "# Plot the U channel in the second subplot (1 row, 2 columns, second plot)\n",
    "hp.mollview(preprocessed_im[idx_map, 1], nest=True, min=min_val, max=max_val,\n",
    "            title='Preprocessed U channel', sub=(1, 2, 2))\n",
    "\n",
    "plt.show()\n",
    "\n",
    "print(f\"Shape of preprocessed data: {preprocessed_im.shape}\")"
   ]
  },
  {
   "cell_type": "markdown",
   "id": "673f1b2c-f775-4abf-bd8c-80006347087b",
   "metadata": {},
   "source": [
    "## 4) (Optional) Generate new set of input Gaussian Map Realizations from the pixel covariance of the original maps\n",
    "\n",
    "If `gauss_real=True`, this step will compute an SVD of the reference dataset and then generate `n_samples` random Gaussian maps. It overwrites `self.im`.\n"
   ]
  },
  {
   "cell_type": "code",
   "execution_count": null,
   "id": "5ad67bf3-9c06-406a-a3d8-d48b3bc3e482",
   "metadata": {},
   "outputs": [],
   "source": [
    "if pipeline.gauss_real:\n",
    "    pipeline.generate_gaussian_maps()\n",
    "    # Let's visualize again the first newly generated map\n",
    "    new_im = pipeline.im\n",
    "    \n",
    "    # Create a figure with a specified size\n",
    "    fig = plt.figure(figsize=(15, 7))\n",
    "\n",
    "    # Plot the Q channel in the first subplot (1 row, 2 columns, first plot)\n",
    "    hp.mollview(new_im[0, 0], nest=True, min=min_val, max=max_val, \n",
    "                title='Gaussian Realization from the pixel covariance - Q map', sub=(1, 2, 1))\n",
    "\n",
    "    # Plot the U channel in the second subplot (1 row, 2 columns, second plot)\n",
    "    hp.mollview(new_im[0, 1], nest=True, min=min_val, max=max_val, \n",
    "                title='Gaussian Realization from the pixel covariance - U map', sub=(1, 2, 2))\n",
    "    plt.show()"
   ]
  },
  {
   "cell_type": "markdown",
   "id": "9bdff681-0aed-4df0-a939-461607f74796",
   "metadata": {},
   "source": [
    "## 5) Initialize the Scattering Operator \n",
    "We now build the scattering operator (scattering covariance or wavelet scattering transform, depending on if `self.cov` is True).\n",
    "\n",
    "This is performed using the HealpixML code."
   ]
  },
  {
   "cell_type": "code",
   "execution_count": null,
   "id": "dea197c3-d741-4ac2-a77d-cd4f10aa63f7",
   "metadata": {},
   "outputs": [],
   "source": [
    "pipeline.init_scat_op()"
   ]
  },
  {
   "cell_type": "markdown",
   "id": "d378bd54-2ba1-4b9e-84d7-c41597a8fb8a",
   "metadata": {},
   "source": [
    "## 6) Compute Reference Power Spectra\n",
    "\n",
    "The method `init_reference_ps()` loops over each map in the dataset and computes its angular power spectra (`L_1` and `L_2`) using the built-in `anafast` implementation in tensorfow from `foscat.alm` that can be integrated into gradient computations.\n",
    "\n",
    "Let's compute and then print shapes of the stored power spectra arrays.\n"
   ]
  },
  {
   "cell_type": "code",
   "execution_count": null,
   "id": "d7c701c0-f7d5-4b84-8b20-5bdbfad393ec",
   "metadata": {},
   "outputs": [],
   "source": [
    "pipeline.init_reference_ps()\n",
    "\n",
    "print(\"Shapes of power spectra arrays:\")\n",
    "print(f\"c_l1: {pipeline.c_l1.shape}\")\n",
    "print(f\"c_l2: {pipeline.c_l2.shape}\")\n",
    "\n",
    "# Plot the input map's L2 isotropic angular power spectrum.\n",
    "# c_l2 has shape (n_samples, 3, 3*nside)\n",
    "# The second axis is for [EE, EB, BB]. \n",
    "\n",
    "ell = np.arange(3 * pipeline.nside)\n",
    "\n",
    "fig = plt.figure()\n",
    "for i in range(pipeline.n_samples):\n",
    "    plt.plot(ell, pipeline.c_l2[i, 0, :], color='blue') \n",
    "plt.title(\"Input maps (isotropic) EE angular power spectrum\")\n",
    "plt.xlabel(\"Multipole moment $\\ell$\")\n",
    "plt.ylabel(\"$C_{l2}^{EE}$\")\n",
    "plt.loglog()\n",
    "plt.xlim(2,ell.max())\n",
    "plt.show()"
   ]
  },
  {
   "cell_type": "markdown",
   "id": "fc1075b2-d48c-4a12-be0a-4e6b51f9e939",
   "metadata": {},
   "source": [
    "## 7) Normalize Data\n",
    "\n",
    "`normalize_data()` will compute mean and std over the entire dataset (channel-wise, pixel-wise) and normalize the internal data. This is for convention **after** we compute the reference power spectra on the unnormalized maps.\n",
    "\n",
    "We visualize again the normalized maps."
   ]
  },
  {
   "cell_type": "code",
   "execution_count": null,
   "id": "4a3e016f-1811-4abc-a6b8-e4fc6c295611",
   "metadata": {},
   "outputs": [],
   "source": [
    "pipeline.normalize_data()\n",
    "\n",
    "print(\"[INFO] Data has been normalized. Mean and std stored in `pipeline.mdim` and `pipeline.dim`.\")"
   ]
  },
  {
   "cell_type": "markdown",
   "id": "9862c165-0399-468c-8eaf-4c4b71fc576e",
   "metadata": {},
   "source": [
    "## 8) Initialize Orientation Matrices\n",
    "\n",
    "If `no_orient=False`, we compute the orientation matrices. \n",
    "\n",
    "In principle, the SC model is designed for homogeneous fields. In our inhomogeneous scenario, additional information to catch the localized structures at large scales is required, which we find particularly efficient to supply by introducing **orientation-informed wavelets**: we define the SC statistics relative to some primary local orientation (in our case relative to the scanning strategy stripes), which is the orientation with the largest amplitude at each pixel and scale in the wavelet-convolved maps. This allows to precompute a $4\\times 4$ (in our case with 4 orientations) rotation matrix for each pixel, which rotates the phase of wavelet-convolved maps (before taking the modulus). The SC statistics computed after this rotation will have amplitudes reflecting the alignment with the primary orientation. We describe in more detail the orientation-informed wavelets in Appendix A of Campeti et al 2025.\n",
    "\n",
    "This is performed using the HealpixML code."
   ]
  },
  {
   "cell_type": "code",
   "execution_count": null,
   "id": "a52cd6e8-032e-4318-9726-daedc6dd68a1",
   "metadata": {},
   "outputs": [],
   "source": [
    "pipeline.init_orient_mat()\n",
    "\n",
    "# If orientation is used, we have cmat1, cmat12, ...\n",
    "# Just check if they exist:\n",
    "print(\"Orientation matrices shapes (if not None):\")"
   ]
  },
  {
   "cell_type": "markdown",
   "id": "615ec1ef-eb8b-44c6-8a44-256af1668471",
   "metadata": {},
   "source": [
    "## 9) Compute Reference Scattering Coefficients\n",
    "\n",
    "For each map in `self.im`, the method `init_reference_scat()` computes the scattering coefficients (single-pol Q, single-pol U, and cross (Q,U)).\n"
   ]
  },
  {
   "cell_type": "code",
   "execution_count": null,
   "id": "811b257b-6ea7-4b45-8c46-73378237e760",
   "metadata": {},
   "outputs": [],
   "source": [
    "pipeline.init_reference_scat()\n",
    "\n",
    "# The dictionaries ref1, ref2, refx hold scattering coefficients for each map\n",
    "# e.g. pipeline.ref1[0], pipeline.ref2[0], pipeline.refx[0]\n",
    "print(\"Keys in ref1, one for each of the input maps:\", pipeline.ref1.keys())"
   ]
  },
  {
   "cell_type": "markdown",
   "id": "91c5bb39-76dc-4ef2-82fd-fbafb9337725",
   "metadata": {},
   "source": [
    "## 10) Run the Synthesis\n",
    "\n",
    "Finally, we call `loop_synthesis()`. This will:\n",
    "1. Create a new `Synthesis` object that combines the scattering & power spectrum losses.\n",
    "2. Initialize a batch of random maps to random Gaussian white noise \n",
    "3. Perform the mean-field gradient descent simultaneously on a batch of NGEN=10 maps, computing at each step the 4 losses defined in `cmbscat_pipe`. \n",
    "4. Save the results to `.npy` files (according to the specified output names/paths).\n",
    "\n",
    "Because we set `NGEN=10`, we will generate a batch of 10 output synthesized maps per reference target. \n",
    "\n",
    "**Note**: For demonstration, we only run for `nstep=50`. This is typically too few steps for a real synthesis, but it’s enough to see the procedure in action.\n",
    "\n",
    "**Note**: Gradient is typically much faster when run on a GPU! The process is also quite memory intensive so if you're running on your laptop it may be necessary to reduce the `nside` depending on your available RAM."
   ]
  },
  {
   "cell_type": "code",
   "execution_count": null,
   "id": "87b55279-31f5-475a-baf4-9268a8f52332",
   "metadata": {},
   "outputs": [],
   "source": [
    "pipeline.loop_synthesis()"
   ]
  },
  {
   "cell_type": "markdown",
   "id": "4a7ab763-7ab3-4143-806f-915b59e9ad0e",
   "metadata": {},
   "source": [
    "## 11) Visualize Initial Maps and Final Synthesis Output\n",
    "\n",
    "First we visualize a sample from the initial white noise realizations used to initialize the gradient descent "
   ]
  },
  {
   "cell_type": "code",
   "execution_count": null,
   "id": "4081a1b4-79ba-4143-8a65-81c5105e8994",
   "metadata": {},
   "outputs": [],
   "source": [
    "fig = plt.figure(figsize=(15, 7))\n",
    "# Plot the Q channel in the first subplot (1 row, 2 columns, first plot)\n",
    "hp.mollview(pipeline.imap[0, 0], nest=True, title='Initial white noise Q map', sub=(1, 2, 1))\n",
    "# Plot the U channel in the second subplot (1 row, 2 columns, second plot)\n",
    "hp.mollview(pipeline.imap[0, 1], nest=True, title='Initial white noise U map', sub=(1, 2, 2))\n",
    "plt.show()"
   ]
  },
  {
   "cell_type": "markdown",
   "id": "cd84ccf4-93df-4eb6-9812-b5dc19c71d8c",
   "metadata": {},
   "source": [
    "After `loop_synthesis()` completes, the pipeline saves results in `.npy` files at `outpath`. \n",
    "\n",
    "In a real scenario, you’d load them back or directly capture the final arrays. Because in the code above, it saves the final arrays as `out_XXX_map_16.npy`, we can do something like:\n"
   ]
  },
  {
   "cell_type": "code",
   "execution_count": null,
   "id": "cac28bdc-e13e-44e4-be8b-5df3ed328a5a",
   "metadata": {},
   "outputs": [],
   "source": [
    "# Suppose in your loop_synthesis you keep them in a variable or you just re-load them here\n",
    "# For demonstration, let's pretend we re-load them:\n",
    "\n",
    "# these are the maps in the first batch corresponding to target 0\n",
    "out_data = np.load(pipeline.outpath+'out_'+pipeline.outname+'_000_map_'+str(pipeline.nside)+'.npy')\n",
    "print(f\"Loaded synthesized output shape: {out_data.shape}\")\n",
    "\n",
    "fig = plt.figure(figsize=(15, 7))\n",
    "# Plot the Q channel in the first subplot (1 row, 2 columns, first plot)\n",
    "hp.mollview(out_data[0, 0], nest=True, min=min_val, max=max_val, title='Synthesized Q map', sub=(1, 2, 1))\n",
    "# Plot the U channel in the second subplot (1 row, 2 columns, second plot)\n",
    "hp.mollview(out_data[0, 1], nest=True, min=min_val, max=max_val, title='Synthesized U map', sub=(1, 2, 2))\n",
    "plt.show()"
   ]
  },
  {
   "cell_type": "markdown",
   "id": "0b1fffe4-2c60-4350-aa64-9eaf439b1d57",
   "metadata": {},
   "source": [
    "## 12) Quick visual validation: compare emulated with input maps"
   ]
  },
  {
   "cell_type": "code",
   "execution_count": null,
   "id": "fa4de7af-60d1-476a-a152-060a5019c77a",
   "metadata": {},
   "outputs": [],
   "source": [
    "n_targets = 1    # number of target plotted \n",
    "n_emulated = 3    # Number of generated maps to display per target\n",
    "ncols = 1 + n_emulated  # 1 target column + 3 emulated columns\n",
    "nrows = n_targets\n",
    "cmap = 'viridis'\n",
    "\n",
    "# ============================================================================\n",
    "# PLOTTING\n",
    "# ============================================================================\n",
    "# We plot only the Q component (index 0) for each map.\n",
    "fig, axes = plt.subplots(\n",
    "    nrows=nrows, ncols=ncols,\n",
    "    figsize=(16, 6),\n",
    "    gridspec_kw={'wspace': 0.05, 'hspace': 0.17}\n",
    ")\n",
    "\n",
    "column_titles = [\"Target (Q)\", \"Emulated sample 1 (Q)\", \"Emulated sample 2 (Q)\", \"Emulated sample 3 (Q)\"]\n",
    "\n",
    "for i in range(nrows):\n",
    "    maps_to_plot = [new_im[i][0]] + [emap[0] for emap in out_data]\n",
    "    \n",
    "    for j in range(ncols):\n",
    "        ax = axes[i, j] if nrows > 1 else axes[j]\n",
    "        plt.sca(ax)\n",
    "        \n",
    "        hp.mollview(\n",
    "            maps_to_plot[j],\n",
    "            fig=fig.number,\n",
    "            sub=(nrows, ncols, i*ncols + j + 1),\n",
    "            title=\"\",  \n",
    "            min=min_val,\n",
    "            max=max_val,\n",
    "            cbar=False,\n",
    "            notext=True,\n",
    "            cmap=cmap,\n",
    "            nest=True,\n",
    "        )\n",
    "        ax.axis('off')\n",
    "\n",
    "x_positions = np.linspace(0.125, 0.875, ncols)  \n",
    "for j in range(ncols):\n",
    "    fig.text(x_positions[j], 0.7, column_titles[j],\n",
    "             ha='center', va='bottom', fontsize=14, color='black')\n",
    "\n",
    "dummy_mappable = plt.cm.ScalarMappable(\n",
    "    norm=plt.Normalize(vmin=min_val, vmax=max_val),\n",
    "    cmap=cmap\n",
    ")\n",
    "dummy_mappable.set_array([])\n",
    "cbar_ax = fig.add_axes([0.26, 0.24, 0.5, 0.016])\n",
    "cbar = plt.colorbar(dummy_mappable, cax=cbar_ax, orientation='horizontal')\n",
    "cbar.set_label(r\"$\\mu$K\", fontsize=12)"
   ]
  },
  {
   "cell_type": "markdown",
   "id": "f53a11b7-cc31-4e1e-a71f-6766a8cb8a3b",
   "metadata": {},
   "source": [
    "## 13) Quick Validation: Angular Power Spectra\n",
    "\n",
    "Here we use `healpy` `anafast` routine to compute the angular power spectra of the target input map and compare it to the average of the batch of maps emulated using it as target.\n",
    "\n",
    "Before computing spectra we need to convert the maps back to RING order."
   ]
  },
  {
   "cell_type": "code",
   "execution_count": null,
   "id": "fb27e18a-40c0-4149-87bc-0a6e130b35a5",
   "metadata": {},
   "outputs": [],
   "source": [
    "lmax = 3*pipeline.nside # max multipole in the spectra\n",
    "\n",
    "# dummy T map just to compute the power spectra with anafast\n",
    "npix = hp.nside2npix(pipeline.nside)\n",
    "T_map = np.random.randn(npix)\n",
    "\n",
    "# compute spectra of synthesized maps with anafast\n",
    "ps_out = np.zeros((out_data.shape[0], 2, lmax))\n",
    "for k in range(0, out_data.shape[0]):\n",
    "    Q_map = hp.reorder(out_data[k, 0], n2r=True)\n",
    "    U_map = hp.reorder(out_data[k, 1], n2r=True)\n",
    "\n",
    "    input_maps = np.array([T_map, Q_map, U_map])\n",
    "    _, EE, BB, _, _, _ = hp.anafast(input_maps)\n",
    "    ps_out[k, 0] = EE\n",
    "    ps_out[k, 1] = BB\n",
    "\n",
    "# compute spectra of input maps (unnnormalized) with anafast\n",
    "ps_in = np.zeros((new_im.shape[0], 2, lmax))\n",
    "for k in range(0, new_im.shape[0]):\n",
    "    Q_map = hp.reorder(new_im[k, 0], n2r=True)\n",
    "    U_map = hp.reorder(new_im[k, 1], n2r=True)\n",
    "\n",
    "    input_maps = np.array([T_map, Q_map, U_map])\n",
    "    _, EE, BB, _, _, _ = hp.anafast(input_maps)\n",
    "    ps_in[k, 0] = EE\n",
    "    ps_in[k, 1] = BB\n",
    "\n",
    "# compute mean of the input dataset spectra\n",
    "mean_ps_in = np.mean(ps_in, axis=0)\n",
    "\n",
    "# compute mean of the emulated dataset spectra\n",
    "mean_ps_out = np.mean(ps_out, axis=0)"
   ]
  },
  {
   "cell_type": "code",
   "execution_count": null,
   "id": "ef29b1fe-3012-4fe6-8ea2-ad84db3fef5a",
   "metadata": {},
   "outputs": [],
   "source": [
    "# let's plot the EE spectra of the emulated maps in the first batch and compare to the first target in the input maps\n",
    "# we compare also the mean over the batch with the target\n",
    "fig = plt.figure()\n",
    "plt.plot(ell, ps_in[0,0], color='blue', label = 'Mean Input')\n",
    "for i in range(pipeline.NGEN):\n",
    "    plt.plot(ell, ps_out[i,0], color='red', alpha=0.1) \n",
    "# we compare also the mean over the batch with the target\n",
    "plt.plot(ell, mean_ps_out[0], color='red', label = 'Mean Emulated') \n",
    "plt.xlabel(\"Multipole moment $\\ell$\")\n",
    "plt.ylabel(\"$C_{\\ell}^{EE}$\")\n",
    "plt.loglog()\n",
    "plt.xlim(2,ell.max())\n",
    "plt.show()"
   ]
  },
  {
   "cell_type": "code",
   "execution_count": null,
   "id": "1a4e867e-8bea-45ab-b1d4-16950774f70a",
   "metadata": {},
   "outputs": [],
   "source": [
    "# let's plot the BB spectra of the emulated maps in the first batch and compare to the first target in the input maps\n",
    "# we compare also the mean over the batch with the target\n",
    "fig = plt.figure()\n",
    "plt.plot(ell, ps_in[0,1], color='blue', label = 'Mean Input')\n",
    "for i in range(pipeline.NGEN):\n",
    "    plt.plot(ell, ps_out[i,1], color='red', alpha=0.1) \n",
    "# we compare also the mean over the batch with the target\n",
    "plt.plot(ell, mean_ps_out[1], color='red', label = 'Mean Emulated') \n",
    "plt.xlabel(\"Multipole moment $\\ell$\")\n",
    "plt.ylabel(\"$C_{\\ell}^{EE}$\")\n",
    "plt.loglog()\n",
    "plt.xlim(2,ell.max())\n",
    "plt.show()"
   ]
  },
  {
   "cell_type": "markdown",
   "id": "1efa8b20-ebdd-41fd-adf9-a14bb531ab71",
   "metadata": {},
   "source": [
    "## 14) Quick validation: SC coefficients \n",
    "Let's now quickly plot the SC coefficients of the emulated maps.\n",
    "\n",
    "For this we exploit again the routines in `HealpiML` to quickly compute the SC coefficients of the of the 1st input Q map and of the emulated batch maps: "
   ]
  },
  {
   "cell_type": "code",
   "execution_count": null,
   "id": "203dd354-bb83-43c9-af1d-4c1817d96210",
   "metadata": {},
   "outputs": [],
   "source": [
    "ref = pipeline.scat_op.eval(new_im[0,0], norm='self', cmat=pipeline.cmat1, cmat2=pipeline.cmat12)\n",
    "print(ref)"
   ]
  },
  {
   "cell_type": "markdown",
   "id": "36e4be35-0652-4e84-8034-d5c50820eb66",
   "metadata": {},
   "source": [
    "The the ones of all the emulated Q maps in the batch of `NGEN` maps and their mean:  "
   ]
  },
  {
   "cell_type": "code",
   "execution_count": null,
   "id": "f27cba27-7bcd-414d-849b-62392e1eb2eb",
   "metadata": {},
   "outputs": [],
   "source": [
    "synth = {}\n",
    "for k in range(pipeline.NGEN):\n",
    "    synth[k] = pipeline.scat_op.eval(out_data[k, 0], norm='self', cmat=pipeline.cmat1, cmat2=pipeline.cmat12)\n",
    "\n",
    "# let's compute also the mean SC coefficients of the NGEN emulated maps in the batch\n",
    "msynth, vsynth = pipeline.scat_op.moments(synth)"
   ]
  },
  {
   "cell_type": "markdown",
   "id": "d0defdb6-dfbf-499a-a7df-9a23f46b9d1c",
   "metadata": {},
   "source": [
    "Now we quickly plot them using the plotting routines also in `HealpixML`:"
   ]
  },
  {
   "cell_type": "code",
   "execution_count": null,
   "id": "2cf2b64c-39b8-4ebd-92ff-e3139b8f2f87",
   "metadata": {},
   "outputs": [],
   "source": [
    "plt.figure(figsize=(12,8))\n",
    "\n",
    "# let's plot the SC coefficients of the emulated maps in the batch\n",
    "for k in range(pipeline.NGEN):\n",
    "    synth[k].plot(name=None, color='orange', hold=False, norm=True, legend=False)\n",
    "\n",
    "# let's plot the SC coefficients of the target \n",
    "ref.plot(name='Target',color='blue',norm=True,lw=4,hold=False)\n",
    "\n",
    "# let's plot the mean SC coefficients of the NGEN emulated maps in the batch\n",
    "msynth.plot(name='Batch-mean Synthesised', color='red', hold=False, norm=True, lw=2)"
   ]
  },
  {
   "cell_type": "markdown",
   "id": "8dbafe32-2404-4767-be20-79fbd23f1062",
   "metadata": {},
   "source": [
    "We plot also in solid orange the SC coeff of all the emulated maps in the batch.\n",
    "\n",
    "In particular we would like the mean over the whole batch of the SC coefficients (solid red) to follow closely to SC coefficients of the input map used as a target for that batch (solid blue). \n",
    "\n",
    "This typically requires few hundreds (or sometimes 1000 or more) steps in gradient descent, depending on the specific case. Since in this demo we ran gradient descent only for 50 steps we do not expect them to coincide yet. \n",
    "\n",
    "You can try to run for more steps and see them gradually approaching the target in batch mean. \n",
    "\n",
    "  "
   ]
  },
  {
   "cell_type": "markdown",
   "id": "5e29a456-0122-482e-a435-111f20cd2926",
   "metadata": {},
   "source": [
    "# Conclusion\n",
    "\n",
    "We have demonstrated each step of the `cmbscat_pipe` workflow with separate cells and some minimal visualization:\n",
    "1. **Define Parameters**\n",
    "2. **Initialize Pipeline** \n",
    "3. **Preprocessing** input maps\n",
    "4. **(Optional) Gaussian** generation from the pixel covariance of the original dataset\n",
    "5. **Scattering Operator** initialization\n",
    "6. **Reference Power Spectra** computation\n",
    "7. **Normalization**\n",
    "8. **Orientation Matrices** initialization\n",
    "9. **Reference Scattering Coefficients** computation\n",
    "10. **Synthesis** loop\n",
    "11. **Visualize Synthesis Output**\n",
    "12. **Quick visual validation: compare emulated with input maps**\n",
    "13. **Quick Validation: Angular Power Spectra**\n",
    "14. **Quick validation: SC coefficients**\n",
    "15. **Final Output** visualization\n"
   ]
  },
  {
   "cell_type": "code",
   "execution_count": null,
   "id": "a79fcc09-618a-4ed3-9f67-95cd78d883c5",
   "metadata": {},
   "outputs": [],
   "source": []
  }
 ],
 "metadata": {
  "kernelspec": {
   "display_name": "Python 3 (ipykernel)",
   "language": "python",
   "name": "python3"
  },
  "language_info": {
   "codemirror_mode": {
    "name": "ipython",
    "version": 3
   },
   "file_extension": ".py",
   "mimetype": "text/x-python",
   "name": "python",
   "nbconvert_exporter": "python",
   "pygments_lexer": "ipython3",
   "version": "3.11.11"
  }
 },
 "nbformat": 4,
 "nbformat_minor": 5
}
